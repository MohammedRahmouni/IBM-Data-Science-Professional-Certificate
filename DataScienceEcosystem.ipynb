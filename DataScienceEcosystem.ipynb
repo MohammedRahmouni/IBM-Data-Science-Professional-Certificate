{
  "nbformat": 4,
  "nbformat_minor": 0,
  "metadata": {
    "colab": {
      "provenance": []
    },
    "kernelspec": {
      "name": "python3",
      "display_name": "Python 3"
    },
    "language_info": {
      "name": "python"
    }
  },
  "cells": [
    {
      "cell_type": "markdown",
      "source": [
        "# Data Science Tools and Ecosystem"
      ],
      "metadata": {
        "id": "Sm-3CGdwdpWm"
      }
    },
    {
      "cell_type": "markdown",
      "source": [
        "## Introduction\n",
        "\n",
        "In this notebook, we will summarize the key data science tools and ecosystem that are commonly used in the field of data science. We will provide an overview of various tools, libraries, and frameworks that are essential for data scientists to effectively perform tasks such as data analysis, machine learning, and data visualization. This summary will serve as a reference guide for data science practitioners to explore and leverage the wide range of tools available in the data science ecosystem."
      ],
      "metadata": {
        "id": "9xWVIq0qedms"
      }
    },
    {
      "cell_type": "markdown",
      "source": [
        "# Objectives:\n",
        "\n",
        "- List popular languages for Data Science\n",
        "- Identify commonly used libraries in Data Science\n",
        "- Provide examples of evaluating arithmetic expressions in Python\n",
        "- Demonstrate converting minutes to hours in Python\n",
        "- Present a table of Data Science tools"
      ],
      "metadata": {
        "id": "u4LFaoI3jM0G"
      }
    },
    {
      "cell_type": "markdown",
      "source": [
        "## Data Science Languages\n",
        "\n",
        "Some of the popular languages that Data Scientists use are:\n",
        "\n",
        "1. Python\n",
        "2. R\n",
        "3. SQL\n",
        "4. Java\n",
        "5. Scala"
      ],
      "metadata": {
        "id": "TChDBnZ4fE2s"
      }
    },
    {
      "cell_type": "markdown",
      "source": [
        "## Data Science Libraries\n",
        "\n",
        "Some of the commonly used libraries used by Data Scientists include:\n",
        "\n",
        "1. NumPy\n",
        "2. Pandas\n",
        "3. Matplotlib\n",
        "4. Scikit-learn\n",
        "5. TensorFlow\n",
        "6. Keras\n",
        "7. PyTorch\n",
        "8. Seaborn\n",
        "9. Plotly\n",
        "10. XGBoost"
      ],
      "metadata": {
        "id": "670jf26UflcP"
      }
    },
    {
      "cell_type": "markdown",
      "source": [
        "| Data Science Tools |\n",
        "|--------------------|\n",
        "| Jupyter Notebooks |\n",
        "| RStudio            |\n",
        "| VSCode             |"
      ],
      "metadata": {
        "id": "_nRMbZ5Yftyt"
      }
    },
    {
      "cell_type": "markdown",
      "source": [
        "### Below are a few examples of evaluating arithmetic expressions in Python"
      ],
      "metadata": {
        "id": "ZQ34p0jTgcg2"
      }
    },
    {
      "cell_type": "code",
      "source": [
        "# This is a simple arithmetic expression to multiply then add integers\n",
        "result = (3 * 4) + 5\n",
        "result"
      ],
      "metadata": {
        "colab": {
          "base_uri": "https://localhost:8080/"
        },
        "id": "NG7G7NeBg7m8",
        "outputId": "84a142e1-6ff6-4849-948e-efc72df71759"
      },
      "execution_count": 1,
      "outputs": [
        {
          "output_type": "execute_result",
          "data": {
            "text/plain": [
              "17"
            ]
          },
          "metadata": {},
          "execution_count": 1
        }
      ]
    },
    {
      "cell_type": "code",
      "source": [
        "# This will convert 200 minutes to hours by dividing by 60\n",
        "minutes = 200\n",
        "hours = minutes / 60\n",
        "hours"
      ],
      "metadata": {
        "colab": {
          "base_uri": "https://localhost:8080/"
        },
        "id": "cjUC4qn_h_2U",
        "outputId": "7689890c-b1b9-4678-da24-a61f4f5dd028"
      },
      "execution_count": 2,
      "outputs": [
        {
          "output_type": "execute_result",
          "data": {
            "text/plain": [
              "3.3333333333333335"
            ]
          },
          "metadata": {},
          "execution_count": 2
        }
      ]
    },
    {
      "cell_type": "markdown",
      "source": [
        "## Author\n",
        "\n",
        "Mohammed Rahmouni Hassani"
      ],
      "metadata": {
        "id": "rzBRlGiUj22F"
      }
    }
  ]
}